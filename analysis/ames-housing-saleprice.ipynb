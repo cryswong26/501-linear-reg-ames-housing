{
 "cells": [
  {
   "cell_type": "markdown",
   "id": "conceptual-wellington",
   "metadata": {},
   "source": [
    "## Mortgage Loans: Linear Regression Example"
   ]
  },
  {
   "cell_type": "code",
   "execution_count": 2,
   "id": "2d2428d0-4f68-48cf-a534-ecafca1d3b2e",
   "metadata": {},
   "outputs": [
    {
     "name": "stdout",
     "output_type": "stream",
     "text": [
      "Collecting package metadata (current_repodata.json): done\n",
      "Solving environment: failed with initial frozen solve. Retrying with flexible solve.\n",
      "Collecting package metadata (repodata.json): done\n",
      "Solving environment: failed with initial frozen solve. Retrying with flexible solve.\n",
      "\n",
      "PackagesNotFoundError: The following packages are not available from current channels:\n",
      "\n",
      "  - sklearn\n",
      "\n",
      "Current channels:\n",
      "\n",
      "  - https://conda.anaconda.org/conda-forge/linux-64\n",
      "  - https://conda.anaconda.org/conda-forge/noarch\n",
      "\n",
      "To search for alternate channels that may provide the conda package you're\n",
      "looking for, navigate to\n",
      "\n",
      "    https://anaconda.org\n",
      "\n",
      "and use the search bar at the top of the page.\n",
      "\n",
      "\n"
     ]
    }
   ],
   "source": [
    "#! conda install sklearn -y"
   ]
  },
  {
   "cell_type": "code",
   "execution_count": 4,
   "id": "0bac39f5-26c7-48db-90d1-e640fdd5dd75",
   "metadata": {},
   "outputs": [
    {
     "name": "stdout",
     "output_type": "stream",
     "text": [
      "Collecting sklearn\n",
      "  Downloading sklearn-0.0.tar.gz (1.1 kB)\n",
      "Collecting scikit-learn\n",
      "  Downloading scikit_learn-1.1.2-cp39-cp39-manylinux_2_17_x86_64.manylinux2014_x86_64.whl (30.8 MB)\n",
      "\u001b[K     |████████████████████████████████| 30.8 MB 5.7 MB/s eta 0:00:01\n",
      "\u001b[?25hCollecting threadpoolctl>=2.0.0\n",
      "  Downloading threadpoolctl-3.1.0-py3-none-any.whl (14 kB)\n",
      "Requirement already satisfied: scipy>=1.3.2 in /home/studio-lab-user/.conda/envs/default/lib/python3.9/site-packages (from scikit-learn->sklearn) (1.9.0)\n",
      "Requirement already satisfied: numpy>=1.17.3 in /home/studio-lab-user/.conda/envs/default/lib/python3.9/site-packages (from scikit-learn->sklearn) (1.23.1)\n",
      "Collecting joblib>=1.0.0\n",
      "  Downloading joblib-1.1.0-py2.py3-none-any.whl (306 kB)\n",
      "\u001b[K     |████████████████████████████████| 306 kB 102.7 MB/s eta 0:00:01\n",
      "\u001b[?25hBuilding wheels for collected packages: sklearn\n",
      "  Building wheel for sklearn (setup.py) ... \u001b[?25ldone\n",
      "\u001b[?25h  Created wheel for sklearn: filename=sklearn-0.0-py2.py3-none-any.whl size=1304 sha256=ec05a358d008bcd2998cc0845b4fdc8c0730b1e6fc1ecef711e78905f73e03aa\n",
      "  Stored in directory: /home/studio-lab-user/.cache/pip/wheels/e4/7b/98/b6466d71b8d738a0c547008b9eb39bf8676d1ff6ca4b22af1c\n",
      "Successfully built sklearn\n",
      "Installing collected packages: threadpoolctl, joblib, scikit-learn, sklearn\n",
      "Successfully installed joblib-1.1.0 scikit-learn-1.1.2 sklearn-0.0 threadpoolctl-3.1.0\n",
      "Note: you may need to restart the kernel to use updated packages.\n"
     ]
    }
   ],
   "source": [
    "pip install sklearn"
   ]
  },
  {
   "cell_type": "code",
   "execution_count": 1,
   "id": "flush-thomson",
   "metadata": {},
   "outputs": [],
   "source": [
    "import pandas as pd\n",
    "from sklearn.linear_model import LinearRegression\n",
    "from sklearn.model_selection import train_test_split\n",
    "from sklearn import metrics\n",
    "import matplotlib.pyplot as plt\n",
    "import seaborn as sns\n",
    "import numpy as np\n",
    "from math import sqrt\n",
    "pd.set_option('display.max_rows', 500)\n",
    "pd.set_option('display.max_columns', 500)\n",
    "pd.set_option('display.width', 1000)"
   ]
  },
  {
   "cell_type": "code",
   "execution_count": 2,
   "id": "ceramic-valve",
   "metadata": {},
   "outputs": [
    {
     "data": {
      "text/plain": [
       "(1460, 81)"
      ]
     },
     "execution_count": 2,
     "metadata": {},
     "output_type": "execute_result"
    }
   ],
   "source": [
    "df = pd.read_csv('../data/ames_housing.csv')\n",
    "df.shape"
   ]
  },
  {
   "cell_type": "code",
   "execution_count": 3,
   "id": "young-weight",
   "metadata": {},
   "outputs": [
    {
     "data": {
      "text/html": [
       "<div>\n",
       "<style scoped>\n",
       "    .dataframe tbody tr th:only-of-type {\n",
       "        vertical-align: middle;\n",
       "    }\n",
       "\n",
       "    .dataframe tbody tr th {\n",
       "        vertical-align: top;\n",
       "    }\n",
       "\n",
       "    .dataframe thead th {\n",
       "        text-align: right;\n",
       "    }\n",
       "</style>\n",
       "<table border=\"1\" class=\"dataframe\">\n",
       "  <thead>\n",
       "    <tr style=\"text-align: right;\">\n",
       "      <th></th>\n",
       "      <th>0</th>\n",
       "      <th>1</th>\n",
       "    </tr>\n",
       "  </thead>\n",
       "  <tbody>\n",
       "    <tr>\n",
       "      <th>Id</th>\n",
       "      <td>1</td>\n",
       "      <td>2</td>\n",
       "    </tr>\n",
       "    <tr>\n",
       "      <th>MSSubClass</th>\n",
       "      <td>60</td>\n",
       "      <td>20</td>\n",
       "    </tr>\n",
       "    <tr>\n",
       "      <th>MSZoning</th>\n",
       "      <td>RL</td>\n",
       "      <td>RL</td>\n",
       "    </tr>\n",
       "    <tr>\n",
       "      <th>LotFrontage</th>\n",
       "      <td>65.0</td>\n",
       "      <td>80.0</td>\n",
       "    </tr>\n",
       "    <tr>\n",
       "      <th>LotArea</th>\n",
       "      <td>8450</td>\n",
       "      <td>9600</td>\n",
       "    </tr>\n",
       "    <tr>\n",
       "      <th>Street</th>\n",
       "      <td>Pave</td>\n",
       "      <td>Pave</td>\n",
       "    </tr>\n",
       "    <tr>\n",
       "      <th>Alley</th>\n",
       "      <td>NaN</td>\n",
       "      <td>NaN</td>\n",
       "    </tr>\n",
       "    <tr>\n",
       "      <th>LotShape</th>\n",
       "      <td>Reg</td>\n",
       "      <td>Reg</td>\n",
       "    </tr>\n",
       "    <tr>\n",
       "      <th>LandContour</th>\n",
       "      <td>Lvl</td>\n",
       "      <td>Lvl</td>\n",
       "    </tr>\n",
       "    <tr>\n",
       "      <th>Utilities</th>\n",
       "      <td>AllPub</td>\n",
       "      <td>AllPub</td>\n",
       "    </tr>\n",
       "    <tr>\n",
       "      <th>LotConfig</th>\n",
       "      <td>Inside</td>\n",
       "      <td>FR2</td>\n",
       "    </tr>\n",
       "    <tr>\n",
       "      <th>LandSlope</th>\n",
       "      <td>Gtl</td>\n",
       "      <td>Gtl</td>\n",
       "    </tr>\n",
       "    <tr>\n",
       "      <th>Neighborhood</th>\n",
       "      <td>CollgCr</td>\n",
       "      <td>Veenker</td>\n",
       "    </tr>\n",
       "    <tr>\n",
       "      <th>Condition1</th>\n",
       "      <td>Norm</td>\n",
       "      <td>Feedr</td>\n",
       "    </tr>\n",
       "    <tr>\n",
       "      <th>Condition2</th>\n",
       "      <td>Norm</td>\n",
       "      <td>Norm</td>\n",
       "    </tr>\n",
       "    <tr>\n",
       "      <th>BldgType</th>\n",
       "      <td>1Fam</td>\n",
       "      <td>1Fam</td>\n",
       "    </tr>\n",
       "    <tr>\n",
       "      <th>HouseStyle</th>\n",
       "      <td>2Story</td>\n",
       "      <td>1Story</td>\n",
       "    </tr>\n",
       "    <tr>\n",
       "      <th>OverallQual</th>\n",
       "      <td>7</td>\n",
       "      <td>6</td>\n",
       "    </tr>\n",
       "    <tr>\n",
       "      <th>OverallCond</th>\n",
       "      <td>5</td>\n",
       "      <td>8</td>\n",
       "    </tr>\n",
       "    <tr>\n",
       "      <th>YearBuilt</th>\n",
       "      <td>2003</td>\n",
       "      <td>1976</td>\n",
       "    </tr>\n",
       "    <tr>\n",
       "      <th>YearRemodAdd</th>\n",
       "      <td>2003</td>\n",
       "      <td>1976</td>\n",
       "    </tr>\n",
       "    <tr>\n",
       "      <th>RoofStyle</th>\n",
       "      <td>Gable</td>\n",
       "      <td>Gable</td>\n",
       "    </tr>\n",
       "    <tr>\n",
       "      <th>RoofMatl</th>\n",
       "      <td>CompShg</td>\n",
       "      <td>CompShg</td>\n",
       "    </tr>\n",
       "    <tr>\n",
       "      <th>Exterior1st</th>\n",
       "      <td>VinylSd</td>\n",
       "      <td>MetalSd</td>\n",
       "    </tr>\n",
       "    <tr>\n",
       "      <th>Exterior2nd</th>\n",
       "      <td>VinylSd</td>\n",
       "      <td>MetalSd</td>\n",
       "    </tr>\n",
       "    <tr>\n",
       "      <th>MasVnrType</th>\n",
       "      <td>BrkFace</td>\n",
       "      <td>None</td>\n",
       "    </tr>\n",
       "    <tr>\n",
       "      <th>MasVnrArea</th>\n",
       "      <td>196.0</td>\n",
       "      <td>0.0</td>\n",
       "    </tr>\n",
       "    <tr>\n",
       "      <th>ExterQual</th>\n",
       "      <td>Gd</td>\n",
       "      <td>TA</td>\n",
       "    </tr>\n",
       "    <tr>\n",
       "      <th>ExterCond</th>\n",
       "      <td>TA</td>\n",
       "      <td>TA</td>\n",
       "    </tr>\n",
       "    <tr>\n",
       "      <th>Foundation</th>\n",
       "      <td>PConc</td>\n",
       "      <td>CBlock</td>\n",
       "    </tr>\n",
       "    <tr>\n",
       "      <th>BsmtQual</th>\n",
       "      <td>Gd</td>\n",
       "      <td>Gd</td>\n",
       "    </tr>\n",
       "    <tr>\n",
       "      <th>BsmtCond</th>\n",
       "      <td>TA</td>\n",
       "      <td>TA</td>\n",
       "    </tr>\n",
       "    <tr>\n",
       "      <th>BsmtExposure</th>\n",
       "      <td>No</td>\n",
       "      <td>Gd</td>\n",
       "    </tr>\n",
       "    <tr>\n",
       "      <th>BsmtFinType1</th>\n",
       "      <td>GLQ</td>\n",
       "      <td>ALQ</td>\n",
       "    </tr>\n",
       "    <tr>\n",
       "      <th>BsmtFinSF1</th>\n",
       "      <td>706</td>\n",
       "      <td>978</td>\n",
       "    </tr>\n",
       "    <tr>\n",
       "      <th>BsmtFinType2</th>\n",
       "      <td>Unf</td>\n",
       "      <td>Unf</td>\n",
       "    </tr>\n",
       "    <tr>\n",
       "      <th>BsmtFinSF2</th>\n",
       "      <td>0</td>\n",
       "      <td>0</td>\n",
       "    </tr>\n",
       "    <tr>\n",
       "      <th>BsmtUnfSF</th>\n",
       "      <td>150</td>\n",
       "      <td>284</td>\n",
       "    </tr>\n",
       "    <tr>\n",
       "      <th>TotalBsmtSF</th>\n",
       "      <td>856</td>\n",
       "      <td>1262</td>\n",
       "    </tr>\n",
       "    <tr>\n",
       "      <th>Heating</th>\n",
       "      <td>GasA</td>\n",
       "      <td>GasA</td>\n",
       "    </tr>\n",
       "    <tr>\n",
       "      <th>HeatingQC</th>\n",
       "      <td>Ex</td>\n",
       "      <td>Ex</td>\n",
       "    </tr>\n",
       "    <tr>\n",
       "      <th>CentralAir</th>\n",
       "      <td>Y</td>\n",
       "      <td>Y</td>\n",
       "    </tr>\n",
       "    <tr>\n",
       "      <th>Electrical</th>\n",
       "      <td>SBrkr</td>\n",
       "      <td>SBrkr</td>\n",
       "    </tr>\n",
       "    <tr>\n",
       "      <th>1stFlrSF</th>\n",
       "      <td>856</td>\n",
       "      <td>1262</td>\n",
       "    </tr>\n",
       "    <tr>\n",
       "      <th>2ndFlrSF</th>\n",
       "      <td>854</td>\n",
       "      <td>0</td>\n",
       "    </tr>\n",
       "    <tr>\n",
       "      <th>LowQualFinSF</th>\n",
       "      <td>0</td>\n",
       "      <td>0</td>\n",
       "    </tr>\n",
       "    <tr>\n",
       "      <th>GrLivArea</th>\n",
       "      <td>1710</td>\n",
       "      <td>1262</td>\n",
       "    </tr>\n",
       "    <tr>\n",
       "      <th>BsmtFullBath</th>\n",
       "      <td>1</td>\n",
       "      <td>0</td>\n",
       "    </tr>\n",
       "    <tr>\n",
       "      <th>BsmtHalfBath</th>\n",
       "      <td>0</td>\n",
       "      <td>1</td>\n",
       "    </tr>\n",
       "    <tr>\n",
       "      <th>FullBath</th>\n",
       "      <td>2</td>\n",
       "      <td>2</td>\n",
       "    </tr>\n",
       "    <tr>\n",
       "      <th>HalfBath</th>\n",
       "      <td>1</td>\n",
       "      <td>0</td>\n",
       "    </tr>\n",
       "    <tr>\n",
       "      <th>BedroomAbvGr</th>\n",
       "      <td>3</td>\n",
       "      <td>3</td>\n",
       "    </tr>\n",
       "    <tr>\n",
       "      <th>KitchenAbvGr</th>\n",
       "      <td>1</td>\n",
       "      <td>1</td>\n",
       "    </tr>\n",
       "    <tr>\n",
       "      <th>KitchenQual</th>\n",
       "      <td>Gd</td>\n",
       "      <td>TA</td>\n",
       "    </tr>\n",
       "    <tr>\n",
       "      <th>TotRmsAbvGrd</th>\n",
       "      <td>8</td>\n",
       "      <td>6</td>\n",
       "    </tr>\n",
       "    <tr>\n",
       "      <th>Functional</th>\n",
       "      <td>Typ</td>\n",
       "      <td>Typ</td>\n",
       "    </tr>\n",
       "    <tr>\n",
       "      <th>Fireplaces</th>\n",
       "      <td>0</td>\n",
       "      <td>1</td>\n",
       "    </tr>\n",
       "    <tr>\n",
       "      <th>FireplaceQu</th>\n",
       "      <td>NaN</td>\n",
       "      <td>TA</td>\n",
       "    </tr>\n",
       "    <tr>\n",
       "      <th>GarageType</th>\n",
       "      <td>Attchd</td>\n",
       "      <td>Attchd</td>\n",
       "    </tr>\n",
       "    <tr>\n",
       "      <th>GarageYrBlt</th>\n",
       "      <td>2003.0</td>\n",
       "      <td>1976.0</td>\n",
       "    </tr>\n",
       "    <tr>\n",
       "      <th>GarageFinish</th>\n",
       "      <td>RFn</td>\n",
       "      <td>RFn</td>\n",
       "    </tr>\n",
       "    <tr>\n",
       "      <th>GarageCars</th>\n",
       "      <td>2</td>\n",
       "      <td>2</td>\n",
       "    </tr>\n",
       "    <tr>\n",
       "      <th>GarageArea</th>\n",
       "      <td>548</td>\n",
       "      <td>460</td>\n",
       "    </tr>\n",
       "    <tr>\n",
       "      <th>GarageQual</th>\n",
       "      <td>TA</td>\n",
       "      <td>TA</td>\n",
       "    </tr>\n",
       "    <tr>\n",
       "      <th>GarageCond</th>\n",
       "      <td>TA</td>\n",
       "      <td>TA</td>\n",
       "    </tr>\n",
       "    <tr>\n",
       "      <th>PavedDrive</th>\n",
       "      <td>Y</td>\n",
       "      <td>Y</td>\n",
       "    </tr>\n",
       "    <tr>\n",
       "      <th>WoodDeckSF</th>\n",
       "      <td>0</td>\n",
       "      <td>298</td>\n",
       "    </tr>\n",
       "    <tr>\n",
       "      <th>OpenPorchSF</th>\n",
       "      <td>61</td>\n",
       "      <td>0</td>\n",
       "    </tr>\n",
       "    <tr>\n",
       "      <th>EnclosedPorch</th>\n",
       "      <td>0</td>\n",
       "      <td>0</td>\n",
       "    </tr>\n",
       "    <tr>\n",
       "      <th>3SsnPorch</th>\n",
       "      <td>0</td>\n",
       "      <td>0</td>\n",
       "    </tr>\n",
       "    <tr>\n",
       "      <th>ScreenPorch</th>\n",
       "      <td>0</td>\n",
       "      <td>0</td>\n",
       "    </tr>\n",
       "    <tr>\n",
       "      <th>PoolArea</th>\n",
       "      <td>0</td>\n",
       "      <td>0</td>\n",
       "    </tr>\n",
       "    <tr>\n",
       "      <th>PoolQC</th>\n",
       "      <td>NaN</td>\n",
       "      <td>NaN</td>\n",
       "    </tr>\n",
       "    <tr>\n",
       "      <th>Fence</th>\n",
       "      <td>NaN</td>\n",
       "      <td>NaN</td>\n",
       "    </tr>\n",
       "    <tr>\n",
       "      <th>MiscFeature</th>\n",
       "      <td>NaN</td>\n",
       "      <td>NaN</td>\n",
       "    </tr>\n",
       "    <tr>\n",
       "      <th>MiscVal</th>\n",
       "      <td>0</td>\n",
       "      <td>0</td>\n",
       "    </tr>\n",
       "    <tr>\n",
       "      <th>MoSold</th>\n",
       "      <td>2</td>\n",
       "      <td>5</td>\n",
       "    </tr>\n",
       "    <tr>\n",
       "      <th>YrSold</th>\n",
       "      <td>2008</td>\n",
       "      <td>2007</td>\n",
       "    </tr>\n",
       "    <tr>\n",
       "      <th>SaleType</th>\n",
       "      <td>WD</td>\n",
       "      <td>WD</td>\n",
       "    </tr>\n",
       "    <tr>\n",
       "      <th>SaleCondition</th>\n",
       "      <td>Normal</td>\n",
       "      <td>Normal</td>\n",
       "    </tr>\n",
       "    <tr>\n",
       "      <th>SalePrice</th>\n",
       "      <td>208500</td>\n",
       "      <td>181500</td>\n",
       "    </tr>\n",
       "  </tbody>\n",
       "</table>\n",
       "</div>"
      ],
      "text/plain": [
       "                     0        1\n",
       "Id                   1        2\n",
       "MSSubClass          60       20\n",
       "MSZoning            RL       RL\n",
       "LotFrontage       65.0     80.0\n",
       "LotArea           8450     9600\n",
       "Street            Pave     Pave\n",
       "Alley              NaN      NaN\n",
       "LotShape           Reg      Reg\n",
       "LandContour        Lvl      Lvl\n",
       "Utilities       AllPub   AllPub\n",
       "LotConfig       Inside      FR2\n",
       "LandSlope          Gtl      Gtl\n",
       "Neighborhood   CollgCr  Veenker\n",
       "Condition1        Norm    Feedr\n",
       "Condition2        Norm     Norm\n",
       "BldgType          1Fam     1Fam\n",
       "HouseStyle      2Story   1Story\n",
       "OverallQual          7        6\n",
       "OverallCond          5        8\n",
       "YearBuilt         2003     1976\n",
       "YearRemodAdd      2003     1976\n",
       "RoofStyle        Gable    Gable\n",
       "RoofMatl       CompShg  CompShg\n",
       "Exterior1st    VinylSd  MetalSd\n",
       "Exterior2nd    VinylSd  MetalSd\n",
       "MasVnrType     BrkFace     None\n",
       "MasVnrArea       196.0      0.0\n",
       "ExterQual           Gd       TA\n",
       "ExterCond           TA       TA\n",
       "Foundation       PConc   CBlock\n",
       "BsmtQual            Gd       Gd\n",
       "BsmtCond            TA       TA\n",
       "BsmtExposure        No       Gd\n",
       "BsmtFinType1       GLQ      ALQ\n",
       "BsmtFinSF1         706      978\n",
       "BsmtFinType2       Unf      Unf\n",
       "BsmtFinSF2           0        0\n",
       "BsmtUnfSF          150      284\n",
       "TotalBsmtSF        856     1262\n",
       "Heating           GasA     GasA\n",
       "HeatingQC           Ex       Ex\n",
       "CentralAir           Y        Y\n",
       "Electrical       SBrkr    SBrkr\n",
       "1stFlrSF           856     1262\n",
       "2ndFlrSF           854        0\n",
       "LowQualFinSF         0        0\n",
       "GrLivArea         1710     1262\n",
       "BsmtFullBath         1        0\n",
       "BsmtHalfBath         0        1\n",
       "FullBath             2        2\n",
       "HalfBath             1        0\n",
       "BedroomAbvGr         3        3\n",
       "KitchenAbvGr         1        1\n",
       "KitchenQual         Gd       TA\n",
       "TotRmsAbvGrd         8        6\n",
       "Functional         Typ      Typ\n",
       "Fireplaces           0        1\n",
       "FireplaceQu        NaN       TA\n",
       "GarageType      Attchd   Attchd\n",
       "GarageYrBlt     2003.0   1976.0\n",
       "GarageFinish       RFn      RFn\n",
       "GarageCars           2        2\n",
       "GarageArea         548      460\n",
       "GarageQual          TA       TA\n",
       "GarageCond          TA       TA\n",
       "PavedDrive           Y        Y\n",
       "WoodDeckSF           0      298\n",
       "OpenPorchSF         61        0\n",
       "EnclosedPorch        0        0\n",
       "3SsnPorch            0        0\n",
       "ScreenPorch          0        0\n",
       "PoolArea             0        0\n",
       "PoolQC             NaN      NaN\n",
       "Fence              NaN      NaN\n",
       "MiscFeature        NaN      NaN\n",
       "MiscVal              0        0\n",
       "MoSold               2        5\n",
       "YrSold            2008     2007\n",
       "SaleType            WD       WD\n",
       "SaleCondition   Normal   Normal\n",
       "SalePrice       208500   181500"
      ]
     },
     "execution_count": 3,
     "metadata": {},
     "output_type": "execute_result"
    }
   ],
   "source": [
    "df.head(2).T"
   ]
  },
  {
   "cell_type": "markdown",
   "id": "expected-finish",
   "metadata": {},
   "source": [
    "## Exploratory data analysis"
   ]
  },
  {
   "cell_type": "code",
   "execution_count": 4,
   "id": "thousand-difference",
   "metadata": {},
   "outputs": [
    {
     "name": "stdout",
     "output_type": "stream",
     "text": [
      "count      1460.000000\n",
      "mean     180921.195890\n",
      "std       79442.502883\n",
      "min       34900.000000\n",
      "25%      129975.000000\n",
      "50%      163000.000000\n",
      "75%      214000.000000\n",
      "max      755000.000000\n",
      "Name: SalePrice, dtype: float64\n"
     ]
    }
   ],
   "source": [
    "# target\n",
    "print(df['SalePrice'].describe())"
   ]
  },
  {
   "cell_type": "code",
   "execution_count": 5,
   "id": "falling-graph",
   "metadata": {},
   "outputs": [
    {
     "name": "stdout",
     "output_type": "stream",
     "text": [
      "1460\n",
      "419248.70453907084\n",
      "1438\n"
     ]
    }
   ],
   "source": [
    "# remove extreme outliers\n",
    "print(df.shape[0])\n",
    "cutpoint = df['SalePrice'].mean()+3* df['SalePrice'].std()\n",
    "print(cutpoint)\n",
    "df=df[df['SalePrice']<=cutpoint].copy()\n",
    "print(df.shape[0])"
   ]
  },
  {
   "cell_type": "code",
   "execution_count": 6,
   "id": "finnish-foster",
   "metadata": {},
   "outputs": [
    {
     "name": "stdout",
     "output_type": "stream",
     "text": [
      "NAmes      225\n",
      "CollgCr    149\n",
      "OldTown    112\n",
      "Edwards    100\n",
      "Somerst     85\n",
      "Name: Neighborhood, dtype: int64\n"
     ]
    },
    {
     "data": {
      "text/plain": [
       "Other      867\n",
       "NAmes      225\n",
       "CollgCr    149\n",
       "OldTown    112\n",
       "Somerst     85\n",
       "Name: Location, dtype: int64"
      ]
     },
     "execution_count": 6,
     "metadata": {},
     "output_type": "execute_result"
    }
   ],
   "source": [
    "# recoding neighborhood\n",
    "print(df['Neighborhood'].value_counts().head())\n",
    "df['Location']='Other' #make them all other first then manually code the other ones to specific names\n",
    "df.loc[df['Neighborhood']=='NAmes', 'Location']='NAmes'\n",
    "df.loc[df['Neighborhood']=='CollgCr', 'Location']='CollgCr'\n",
    "df.loc[df['Neighborhood']=='OldTown', 'Location']='OldTown'\n",
    "df.loc[df['Neighborhood']=='Somerst', 'Location']='Somerst'\n",
    "df['Location'].value_counts()"
   ]
  },
  {
   "cell_type": "code",
   "execution_count": 7,
   "id": "convenient-corner",
   "metadata": {},
   "outputs": [],
   "source": [
    "# make neighborhood binary for simplicity\n",
    "df['LargeNeighborhood']=np.where(df['Location']=='Other', 0,1)"
   ]
  },
  {
   "cell_type": "code",
   "execution_count": 8,
   "id": "through-airplane",
   "metadata": {},
   "outputs": [
    {
     "name": "stdout",
     "output_type": "stream",
     "text": [
      "1Fam      1198\n",
      "TwnhsE     114\n",
      "Duplex      52\n",
      "Twnhs       43\n",
      "2fmCon      31\n",
      "Name: BldgType, dtype: int64\n",
      "1    1198\n",
      "0     240\n",
      "Name: SingleFam, dtype: int64\n"
     ]
    }
   ],
   "source": [
    "# recoding building type\n",
    "print(df['BldgType'].value_counts())\n",
    "df['SingleFam']=np.where(df['BldgType']=='1Fam',1,0)\n",
    "print(df['SingleFam'].value_counts())"
   ]
  },
  {
   "cell_type": "code",
   "execution_count": 9,
   "id": "expired-kazakhstan",
   "metadata": {},
   "outputs": [
    {
     "data": {
      "text/plain": [
       "count     1438.000000\n",
       "mean      2532.068150\n",
       "std        769.994523\n",
       "min        334.000000\n",
       "25%       2004.250000\n",
       "50%       2460.000000\n",
       "75%       2982.500000\n",
       "max      11752.000000\n",
       "Name: TotalSF, dtype: float64"
      ]
     },
     "execution_count": 9,
     "metadata": {},
     "output_type": "execute_result"
    }
   ],
   "source": [
    "# recoding total square feet\n",
    "df['TotalSF'] = df['TotalBsmtSF']+df['1stFlrSF']+df['2ndFlrSF']\n",
    "df['TotalSF'].describe()"
   ]
  },
  {
   "cell_type": "code",
   "execution_count": 10,
   "id": "employed-teacher",
   "metadata": {},
   "outputs": [
    {
     "data": {
      "text/plain": [
       "count    1438.000000\n",
       "mean        2.863004\n",
       "std         0.811372\n",
       "min         0.000000\n",
       "25%         2.000000\n",
       "50%         3.000000\n",
       "75%         3.000000\n",
       "max         8.000000\n",
       "Name: BedroomAbvGr, dtype: float64"
      ]
     },
     "execution_count": 10,
     "metadata": {},
     "output_type": "execute_result"
    }
   ],
   "source": [
    "# bedrooms\n",
    "df['BedroomAbvGr'].describe()"
   ]
  },
  {
   "cell_type": "code",
   "execution_count": 11,
   "id": "acute-extra",
   "metadata": {},
   "outputs": [
    {
     "data": {
      "text/plain": [
       "count    1438.000000\n",
       "mean        1.929068\n",
       "std         0.781112\n",
       "min         0.000000\n",
       "25%         1.000000\n",
       "50%         2.000000\n",
       "75%         2.000000\n",
       "max         4.000000\n",
       "Name: Bathrooms, dtype: float64"
      ]
     },
     "execution_count": 11,
     "metadata": {},
     "output_type": "execute_result"
    }
   ],
   "source": [
    "# recoding bathrooms\n",
    "df['Bathrooms']=df['FullBath']+df['HalfBath']\n",
    "df['Bathrooms'].describe()"
   ]
  },
  {
   "cell_type": "code",
   "execution_count": 12,
   "id": "compound-dealing",
   "metadata": {},
   "outputs": [
    {
     "data": {
      "text/plain": [
       "count    1438.000000\n",
       "mean     1970.844924\n",
       "std        30.093041\n",
       "min      1872.000000\n",
       "25%      1953.250000\n",
       "50%      1972.000000\n",
       "75%      2000.000000\n",
       "max      2010.000000\n",
       "Name: YearBuilt, dtype: float64"
      ]
     },
     "execution_count": 12,
     "metadata": {},
     "output_type": "execute_result"
    }
   ],
   "source": [
    "# year\n",
    "df['YearBuilt'].describe()"
   ]
  },
  {
   "cell_type": "code",
   "execution_count": 15,
   "id": "312a7e35-018a-4ae3-9739-f658aab14e41",
   "metadata": {},
   "outputs": [
    {
     "data": {
      "text/plain": [
       "Y    1343\n",
       "N      95\n",
       "Name: CentralAir, dtype: int64"
      ]
     },
     "execution_count": 15,
     "metadata": {},
     "output_type": "execute_result"
    }
   ],
   "source": [
    "#add my own variables here before confirming no missing data and all values are numerical\n",
    "df['CentralAir'].value_counts() #this is just Y or N so can change these to 0 and 1\n",
    "#one potential problem is that the vast majority of homes have central air so it might not make much of a difference in the model"
   ]
  },
  {
   "cell_type": "code",
   "execution_count": 16,
   "id": "6098fb71-14cb-46ee-9064-f8f93c9a0f80",
   "metadata": {},
   "outputs": [],
   "source": [
    "#recode central air to numerical\n",
    "df['CentralAir_New']=np.where(df['CentralAir']=='Y',1,0)"
   ]
  },
  {
   "cell_type": "code",
   "execution_count": 17,
   "id": "86f441f4-b5d1-4c81-bdab-ae22ba00bff0",
   "metadata": {},
   "outputs": [
    {
     "data": {
      "text/plain": [
       "1    1343\n",
       "0      95\n",
       "Name: CentralAir_New, dtype: int64"
      ]
     },
     "execution_count": 17,
     "metadata": {},
     "output_type": "execute_result"
    }
   ],
   "source": [
    "#check the counts now\n",
    "df['CentralAir_New'].value_counts()\n",
    "#it matches"
   ]
  },
  {
   "cell_type": "code",
   "execution_count": 18,
   "id": "c5e5c148-97a9-43b3-a32e-ef9be8a5921a",
   "metadata": {},
   "outputs": [
    {
     "data": {
      "text/plain": [
       "count    1438.000000\n",
       "mean        0.601530\n",
       "std         0.640044\n",
       "min         0.000000\n",
       "25%         0.000000\n",
       "50%         1.000000\n",
       "75%         1.000000\n",
       "max         3.000000\n",
       "Name: Fireplaces, dtype: float64"
      ]
     },
     "execution_count": 18,
     "metadata": {},
     "output_type": "execute_result"
    }
   ],
   "source": [
    "#add fireplaces\n",
    "df['Fireplaces'].describe()\n",
    "#this one is already numerical so don't need to recode"
   ]
  },
  {
   "cell_type": "code",
   "execution_count": 19,
   "id": "915ca282-6eac-484b-aca4-dd7b65a362c4",
   "metadata": {},
   "outputs": [
    {
     "data": {
      "text/plain": [
       "count    1438.000000\n",
       "mean        2.415160\n",
       "std        37.768672\n",
       "min         0.000000\n",
       "25%         0.000000\n",
       "50%         0.000000\n",
       "75%         0.000000\n",
       "max       738.000000\n",
       "Name: PoolArea, dtype: float64"
      ]
     },
     "execution_count": 19,
     "metadata": {},
     "output_type": "execute_result"
    }
   ],
   "source": [
    "#add pools?\n",
    "df['PoolArea'].describe()\n",
    "#looks like this one isn't too meaningful"
   ]
  },
  {
   "cell_type": "code",
   "execution_count": 20,
   "id": "69506970-9274-4ad9-b0c2-f276101146d3",
   "metadata": {},
   "outputs": [
    {
     "data": {
      "text/plain": [
       "count    1438.000000\n",
       "mean        1.748957\n",
       "std         0.737868\n",
       "min         0.000000\n",
       "25%         1.000000\n",
       "50%         2.000000\n",
       "75%         2.000000\n",
       "max         4.000000\n",
       "Name: GarageCars, dtype: float64"
      ]
     },
     "execution_count": 20,
     "metadata": {},
     "output_type": "execute_result"
    }
   ],
   "source": [
    "#garages\n",
    "df['GarageCars'].describe()\n",
    "#this one is numerical already so don't need to re-code"
   ]
  },
  {
   "cell_type": "code",
   "execution_count": 21,
   "id": "f614fcc4-fa83-4253-870f-f8f44747beaa",
   "metadata": {},
   "outputs": [
    {
     "data": {
      "text/plain": [
       "Attchd     857\n",
       "Detchd     386\n",
       "BuiltIn     80\n",
       "Basment     19\n",
       "CarPort      9\n",
       "2Types       6\n",
       "Name: GarageType, dtype: int64"
      ]
     },
     "execution_count": 21,
     "metadata": {},
     "output_type": "execute_result"
    }
   ],
   "source": [
    "#attached garage?\n",
    "df['GarageType'].value_counts()\n",
    "#most important is attached (anecdotally) so just make this binary"
   ]
  },
  {
   "cell_type": "code",
   "execution_count": 22,
   "id": "bd2ddeac-ae5f-4d5b-8edb-04a42e56fef9",
   "metadata": {},
   "outputs": [],
   "source": [
    "#re-code garagetype\n",
    "df['GarageAttached']=np.where(df['GarageType']=='Attchd',1,0)"
   ]
  },
  {
   "cell_type": "code",
   "execution_count": 23,
   "id": "aaddcb11-d3e1-40b7-be68-9b573e1d8397",
   "metadata": {},
   "outputs": [
    {
     "data": {
      "text/plain": [
       "1    857\n",
       "0    581\n",
       "Name: GarageAttached, dtype: int64"
      ]
     },
     "execution_count": 23,
     "metadata": {},
     "output_type": "execute_result"
    }
   ],
   "source": [
    "#check values\n",
    "df['GarageAttached'].value_counts()"
   ]
  },
  {
   "cell_type": "code",
   "execution_count": 13,
   "id": "floppy-progress",
   "metadata": {},
   "outputs": [
    {
     "data": {
      "text/plain": [
       "SalePrice            0\n",
       "YearBuilt            0\n",
       "Bathrooms            0\n",
       "BedroomAbvGr         0\n",
       "TotalSF              0\n",
       "SingleFam            0\n",
       "LargeNeighborhood    0\n",
       "dtype: int64"
      ]
     },
     "execution_count": 13,
     "metadata": {},
     "output_type": "execute_result"
    }
   ],
   "source": [
    "# confirm no missing data\n",
    "df[['SalePrice','YearBuilt','Bathrooms','BedroomAbvGr','TotalSF','SingleFam','LargeNeighborhood']].isnull().sum()"
   ]
  },
  {
   "cell_type": "code",
   "execution_count": 24,
   "id": "9d0afe63-c2f3-4d76-a04f-1482fe369e3c",
   "metadata": {},
   "outputs": [
    {
     "data": {
      "text/plain": [
       "SalePrice            0\n",
       "YearBuilt            0\n",
       "Bathrooms            0\n",
       "BedroomAbvGr         0\n",
       "TotalSF              0\n",
       "SingleFam            0\n",
       "LargeNeighborhood    0\n",
       "CentralAir_New       0\n",
       "Fireplaces           0\n",
       "GarageCars           0\n",
       "GarageAttached       0\n",
       "dtype: int64"
      ]
     },
     "execution_count": 24,
     "metadata": {},
     "output_type": "execute_result"
    }
   ],
   "source": [
    "#confirm no missing data with the new features\n",
    "df[['SalePrice','YearBuilt','Bathrooms','BedroomAbvGr','TotalSF','SingleFam','LargeNeighborhood','CentralAir_New','Fireplaces','GarageCars','GarageAttached']].isnull().sum()"
   ]
  },
  {
   "cell_type": "code",
   "execution_count": 14,
   "id": "loving-median",
   "metadata": {},
   "outputs": [
    {
     "data": {
      "text/plain": [
       "SalePrice            int64\n",
       "YearBuilt            int64\n",
       "Bathrooms            int64\n",
       "BedroomAbvGr         int64\n",
       "TotalSF              int64\n",
       "SingleFam            int64\n",
       "LargeNeighborhood    int64\n",
       "dtype: object"
      ]
     },
     "execution_count": 14,
     "metadata": {},
     "output_type": "execute_result"
    }
   ],
   "source": [
    "# confirm all numerical\n",
    "df[['SalePrice','YearBuilt','Bathrooms','BedroomAbvGr','TotalSF','SingleFam','LargeNeighborhood']].dtypes"
   ]
  },
  {
   "cell_type": "code",
   "execution_count": 25,
   "id": "ee619cb5-8080-42ea-9a00-b40b208e9f1f",
   "metadata": {},
   "outputs": [
    {
     "data": {
      "text/plain": [
       "SalePrice            int64\n",
       "YearBuilt            int64\n",
       "Bathrooms            int64\n",
       "BedroomAbvGr         int64\n",
       "TotalSF              int64\n",
       "SingleFam            int64\n",
       "LargeNeighborhood    int64\n",
       "CentralAir_New       int64\n",
       "Fireplaces           int64\n",
       "GarageCars           int64\n",
       "GarageAttached       int64\n",
       "dtype: object"
      ]
     },
     "execution_count": 25,
     "metadata": {},
     "output_type": "execute_result"
    }
   ],
   "source": [
    "# confirm all are numerical with the new features\n",
    "df[['SalePrice','YearBuilt','Bathrooms','BedroomAbvGr','TotalSF','SingleFam','LargeNeighborhood', 'CentralAir_New','Fireplaces','GarageCars','GarageAttached']].dtypes"
   ]
  },
  {
   "cell_type": "markdown",
   "id": "demonstrated-authentication",
   "metadata": {},
   "source": [
    "## Model Building"
   ]
  },
  {
   "cell_type": "code",
   "execution_count": 26,
   "id": "designing-inventory",
   "metadata": {},
   "outputs": [
    {
     "name": "stdout",
     "output_type": "stream",
     "text": [
      "(1438,) (1438, 10)\n"
     ]
    }
   ],
   "source": [
    "# declare features and target\n",
    "features = ['YearBuilt','Bathrooms','BedroomAbvGr','TotalSF','SingleFam','LargeNeighborhood', 'CentralAir_New','Fireplaces','GarageCars','GarageAttached']\n",
    "y = df['SalePrice']\n",
    "X = df[features]\n",
    "print(y.shape, X.shape)"
   ]
  },
  {
   "cell_type": "code",
   "execution_count": 27,
   "id": "resident-poetry",
   "metadata": {},
   "outputs": [],
   "source": [
    "# train-test split\n",
    "X_train, X_test, y_train, y_test = train_test_split(X, y, test_size = .25, random_state=12)"
   ]
  },
  {
   "cell_type": "code",
   "execution_count": 28,
   "id": "lesbian-shelf",
   "metadata": {},
   "outputs": [
    {
     "data": {
      "text/html": [
       "<style>#sk-container-id-1 {color: black;background-color: white;}#sk-container-id-1 pre{padding: 0;}#sk-container-id-1 div.sk-toggleable {background-color: white;}#sk-container-id-1 label.sk-toggleable__label {cursor: pointer;display: block;width: 100%;margin-bottom: 0;padding: 0.3em;box-sizing: border-box;text-align: center;}#sk-container-id-1 label.sk-toggleable__label-arrow:before {content: \"▸\";float: left;margin-right: 0.25em;color: #696969;}#sk-container-id-1 label.sk-toggleable__label-arrow:hover:before {color: black;}#sk-container-id-1 div.sk-estimator:hover label.sk-toggleable__label-arrow:before {color: black;}#sk-container-id-1 div.sk-toggleable__content {max-height: 0;max-width: 0;overflow: hidden;text-align: left;background-color: #f0f8ff;}#sk-container-id-1 div.sk-toggleable__content pre {margin: 0.2em;color: black;border-radius: 0.25em;background-color: #f0f8ff;}#sk-container-id-1 input.sk-toggleable__control:checked~div.sk-toggleable__content {max-height: 200px;max-width: 100%;overflow: auto;}#sk-container-id-1 input.sk-toggleable__control:checked~label.sk-toggleable__label-arrow:before {content: \"▾\";}#sk-container-id-1 div.sk-estimator input.sk-toggleable__control:checked~label.sk-toggleable__label {background-color: #d4ebff;}#sk-container-id-1 div.sk-label input.sk-toggleable__control:checked~label.sk-toggleable__label {background-color: #d4ebff;}#sk-container-id-1 input.sk-hidden--visually {border: 0;clip: rect(1px 1px 1px 1px);clip: rect(1px, 1px, 1px, 1px);height: 1px;margin: -1px;overflow: hidden;padding: 0;position: absolute;width: 1px;}#sk-container-id-1 div.sk-estimator {font-family: monospace;background-color: #f0f8ff;border: 1px dotted black;border-radius: 0.25em;box-sizing: border-box;margin-bottom: 0.5em;}#sk-container-id-1 div.sk-estimator:hover {background-color: #d4ebff;}#sk-container-id-1 div.sk-parallel-item::after {content: \"\";width: 100%;border-bottom: 1px solid gray;flex-grow: 1;}#sk-container-id-1 div.sk-label:hover label.sk-toggleable__label {background-color: #d4ebff;}#sk-container-id-1 div.sk-serial::before {content: \"\";position: absolute;border-left: 1px solid gray;box-sizing: border-box;top: 0;bottom: 0;left: 50%;z-index: 0;}#sk-container-id-1 div.sk-serial {display: flex;flex-direction: column;align-items: center;background-color: white;padding-right: 0.2em;padding-left: 0.2em;position: relative;}#sk-container-id-1 div.sk-item {position: relative;z-index: 1;}#sk-container-id-1 div.sk-parallel {display: flex;align-items: stretch;justify-content: center;background-color: white;position: relative;}#sk-container-id-1 div.sk-item::before, #sk-container-id-1 div.sk-parallel-item::before {content: \"\";position: absolute;border-left: 1px solid gray;box-sizing: border-box;top: 0;bottom: 0;left: 50%;z-index: -1;}#sk-container-id-1 div.sk-parallel-item {display: flex;flex-direction: column;z-index: 1;position: relative;background-color: white;}#sk-container-id-1 div.sk-parallel-item:first-child::after {align-self: flex-end;width: 50%;}#sk-container-id-1 div.sk-parallel-item:last-child::after {align-self: flex-start;width: 50%;}#sk-container-id-1 div.sk-parallel-item:only-child::after {width: 0;}#sk-container-id-1 div.sk-dashed-wrapped {border: 1px dashed gray;margin: 0 0.4em 0.5em 0.4em;box-sizing: border-box;padding-bottom: 0.4em;background-color: white;}#sk-container-id-1 div.sk-label label {font-family: monospace;font-weight: bold;display: inline-block;line-height: 1.2em;}#sk-container-id-1 div.sk-label-container {text-align: center;}#sk-container-id-1 div.sk-container {/* jupyter's `normalize.less` sets `[hidden] { display: none; }` but bootstrap.min.css set `[hidden] { display: none !important; }` so we also need the `!important` here to be able to override the default hidden behavior on the sphinx rendered scikit-learn.org. See: https://github.com/scikit-learn/scikit-learn/issues/21755 */display: inline-block !important;position: relative;}#sk-container-id-1 div.sk-text-repr-fallback {display: none;}</style><div id=\"sk-container-id-1\" class=\"sk-top-container\"><div class=\"sk-text-repr-fallback\"><pre>LinearRegression()</pre><b>In a Jupyter environment, please rerun this cell to show the HTML representation or trust the notebook. <br />On GitHub, the HTML representation is unable to render, please try loading this page with nbviewer.org.</b></div><div class=\"sk-container\" hidden><div class=\"sk-item\"><div class=\"sk-estimator sk-toggleable\"><input class=\"sk-toggleable__control sk-hidden--visually\" id=\"sk-estimator-id-1\" type=\"checkbox\" checked><label for=\"sk-estimator-id-1\" class=\"sk-toggleable__label sk-toggleable__label-arrow\">LinearRegression</label><div class=\"sk-toggleable__content\"><pre>LinearRegression()</pre></div></div></div></div></div>"
      ],
      "text/plain": [
       "LinearRegression()"
      ]
     },
     "execution_count": 28,
     "metadata": {},
     "output_type": "execute_result"
    }
   ],
   "source": [
    "# Fit the model to the training dataset\n",
    "mymodel = LinearRegression()\n",
    "mymodel.fit(X_train, y_train)"
   ]
  },
  {
   "cell_type": "code",
   "execution_count": 29,
   "id": "comparable-death",
   "metadata": {},
   "outputs": [
    {
     "data": {
      "text/plain": [
       "array([  534.74100498,  9021.83168942, -5410.07891648,    39.48625323,\n",
       "       21538.11331764, -5348.39752137,  7329.98152723, 11622.57812558,\n",
       "       19168.33552407,  -789.18196241])"
      ]
     },
     "execution_count": 29,
     "metadata": {},
     "output_type": "execute_result"
    }
   ],
   "source": [
    "# coefficients and intercept\n",
    "mymodel.intercept_\n",
    "mymodel.coef_"
   ]
  },
  {
   "cell_type": "code",
   "execution_count": 30,
   "id": "labeled-retreat",
   "metadata": {},
   "outputs": [
    {
     "name": "stdout",
     "output_type": "stream",
     "text": [
      "Regression Equation:  y = -1043815.6191 + 534.741*YearBuilt + 9021.8317*Bathrooms + -5410.0789*BedroomAbvGr + 39.4863*TotalSF+ 21538.1133*SingleFam+ -5348.3975*LargeNeighborhood + 7329.9815*CentralAir_New + 11622.5781*Fireplaces + 19168.3355*GarageCars + -789.182*GarageAttached \n"
     ]
    }
   ],
   "source": [
    "# what is the equation for this model?\n",
    "cols=list(X.columns)\n",
    "coefs=list(mymodel.coef_)\n",
    "xcoefs = [(coefs[i], cols[i]) for i in range(0, len(cols))]\n",
    "equation = f'y = {round(mymodel.intercept_,4)} + {round(xcoefs[0][0],4)}*{xcoefs[0][1]} + {round(xcoefs[1][0],4)}*{xcoefs[1][1]} + {round(xcoefs[2][0],4)}*{xcoefs[2][1]} + {round(xcoefs[3][0],4)}*{xcoefs[3][1]}+ {round(xcoefs[4][0],4)}*{xcoefs[4][1]}+ {round(xcoefs[5][0],4)}*{xcoefs[5][1]} + {round(xcoefs[6][0],4)}*{xcoefs[6][1]} + {round(xcoefs[7][0],4)}*{xcoefs[7][1]} + {round(xcoefs[8][0],4)}*{xcoefs[8][1]} + {round(xcoefs[9][0],4)}*{xcoefs[9][1]} '\n",
    "print(\"Regression Equation: \", equation)  \n",
    "#surprising that garageattached is a negative co-efficient..."
   ]
  },
  {
   "cell_type": "code",
   "execution_count": 31,
   "id": "published-excellence",
   "metadata": {},
   "outputs": [
    {
     "name": "stdout",
     "output_type": "stream",
     "text": [
      "[132000, 160000, 149700, 82000, 233170]\n",
      "[113588, 82288, 146757, 54314, 217324]\n"
     ]
    }
   ],
   "source": [
    "# Predict the y-values on the testing dataset & examine the first few\n",
    "y_preds = [int(x) for x in mymodel.predict(X_test)]\n",
    "print(list(y_test[:5]))\n",
    "print(y_preds[:5])"
   ]
  },
  {
   "cell_type": "markdown",
   "id": "disturbed-approval",
   "metadata": {},
   "source": [
    "## Model Evaluation"
   ]
  },
  {
   "cell_type": "code",
   "execution_count": 32,
   "id": "circular-business",
   "metadata": {},
   "outputs": [
    {
     "data": {
      "image/png": "[encoded data removed]",
      "text/plain": [
       "<Figure size 432x432 with 1 Axes>"
      ]
     },
     "metadata": {
      "needs_background": "light"
     },
     "output_type": "display_data"
    }
   ],
   "source": [
    "# compare predictions to known values\n",
    "plt.figure(figsize=(6,6))\n",
    "ax = sns.regplot(x = y_preds, \n",
    "                 y = y_test, \n",
    "                 scatter_kws={\"color\": \"black\"}, \n",
    "                 line_kws={\"color\": \"red\"})\n",
    "ax.set(xlabel='predicted values', ylabel='true values');"
   ]
  },
  {
   "cell_type": "code",
   "execution_count": 33,
   "id": "adjustable-lingerie",
   "metadata": {},
   "outputs": [
    {
     "data": {
      "text/plain": [
       "0.71"
      ]
     },
     "execution_count": 33,
     "metadata": {},
     "output_type": "execute_result"
    }
   ],
   "source": [
    "# R-2 (coefficient of determination)\n",
    "r2 = metrics.r2_score(y_test, y_preds)\n",
    "round(r2, 2)\n",
    "#slight improvement from 0.68"
   ]
  },
  {
   "cell_type": "code",
   "execution_count": 34,
   "id": "tracked-bankruptcy",
   "metadata": {},
   "outputs": [
    {
     "data": {
      "text/plain": [
       "38023.075223876294"
      ]
     },
     "execution_count": 34,
     "metadata": {},
     "output_type": "execute_result"
    }
   ],
   "source": [
    "# root mean sq error\n",
    "rmse = sqrt(metrics.mean_squared_error(y_test, y_preds))\n",
    "rmse\n",
    "#small improvement from 41000"
   ]
  },
  {
   "cell_type": "code",
   "execution_count": 35,
   "id": "billion-focus",
   "metadata": {},
   "outputs": [
    {
     "name": "stdout",
     "output_type": "stream",
     "text": [
      "71241.69\n",
      "38023.08\n",
      "improvement: -33218.61\n"
     ]
    }
   ],
   "source": [
    "# is that more or less than if we just used the average as our model?\n",
    "avg_val = y_train.mean()\n",
    "comparison = np.full((len(y_test), ), avg_val)\n",
    "baseline=sqrt(metrics.mean_squared_error(y_test, comparison))\n",
    "print(round(baseline,2))\n",
    "print(round(rmse,2))\n",
    "print('improvement:',round(rmse-baseline,2))"
   ]
  },
  {
   "cell_type": "markdown",
   "id": "dried-history",
   "metadata": {},
   "source": [
    "## Make new predictions"
   ]
  },
  {
   "cell_type": "code",
   "execution_count": 36,
   "id": "regulated-revelation",
   "metadata": {},
   "outputs": [
    {
     "name": "stdout",
     "output_type": "stream",
     "text": [
      "y = -1043815.6191 + 534.741*YearBuilt + 9021.8317*Bathrooms + -5410.0789*BedroomAbvGr + 39.4863*TotalSF+ 21538.1133*SingleFam+ -5348.3975*LargeNeighborhood + 7329.9815*CentralAir_New + 11622.5781*Fireplaces + 19168.3355*GarageCars + -789.182*GarageAttached \n"
     ]
    }
   ],
   "source": [
    "# remember the linear regression equation?\n",
    "print(equation)"
   ]
  },
  {
   "cell_type": "code",
   "execution_count": 39,
   "id": "hindu-valentine",
   "metadata": {},
   "outputs": [],
   "source": [
    "# make some fake data\n",
    "fake1= [[2010, 2, 3, 2000, 1,0,1,1,2,1]] # modest SF home\n",
    "fake2= [[2015, 3, 5, 4000, 1,1,1,3,3,0]] # large SF home in big neighborhood\n",
    "fake3= [[1980, 1, 2, 1000, 0,0,0,0,1,1]] # small home, not SF, outside big neighborhood"
   ]
  },
  {
   "cell_type": "code",
   "execution_count": 40,
   "id": "controversial-reproduction",
   "metadata": {},
   "outputs": [
    {
     "name": "stdout",
     "output_type": "stream",
     "text": [
      "$ 189837\n",
      "$ 307540\n",
      "$ 71038\n"
     ]
    }
   ],
   "source": [
    "# make predictions just using our equation:\n",
    "for data in [fake1, fake2, fake3]:\n",
    "    YearBuilt=data[0][0]\n",
    "    Bathrooms=data[0][1]\n",
    "    BedroomAbvGr=data[0][2]\n",
    "    TotalSF=data[0][3]\n",
    "    SingleFam=data[0][4]\n",
    "    LargeNeighborhood=data[0][5]\n",
    "    CentralAir_New=data[0][6]\n",
    "    Fireplaces=data[0][7]\n",
    "    GarageCars=data[0][8]\n",
    "    GarageAttached=data[0][9]\n",
    "    y = -1043815.6191 + 534.741*YearBuilt + 9021.8317*Bathrooms + -5410.0789*BedroomAbvGr + 39.4863*TotalSF+ 21538.1133*SingleFam+ -5348.3975*LargeNeighborhood + 7329.9815*CentralAir_New + 11622.5781*Fireplaces + 19168.3355*GarageCars + -789.182*GarageAttached \n",
    "    print('$',int(y))"
   ]
  },
  {
   "cell_type": "code",
   "execution_count": 41,
   "id": "reverse-strength",
   "metadata": {},
   "outputs": [],
   "source": [
    "# pickle your model\n",
    "import pickle\n",
    "filename = open('ames_housing_lr_model.pkl', 'wb')\n",
    "pickle.dump(mymodel, filename)\n",
    "filename.close()"
   ]
  },
  {
   "cell_type": "code",
   "execution_count": 42,
   "id": "ruled-admission",
   "metadata": {},
   "outputs": [],
   "source": [
    "## read in our pickle file\n",
    "filename = open('ames_housing_lr_model.pkl', 'rb')\n",
    "unpickled_model = pickle.load(filename)\n",
    "filename.close()"
   ]
  },
  {
   "cell_type": "code",
   "execution_count": 44,
   "id": "announced-manner",
   "metadata": {},
   "outputs": [
    {
     "name": "stdout",
     "output_type": "stream",
     "text": [
      "$ 189837\n",
      "$ 307540\n",
      "$ 71038\n"
     ]
    },
    {
     "name": "stderr",
     "output_type": "stream",
     "text": [
      "/home/studio-lab-user/.conda/envs/default/lib/python3.9/site-packages/sklearn/base.py:450: UserWarning: X does not have valid feature names, but LinearRegression was fitted with feature names\n",
      "  warnings.warn(\n",
      "/home/studio-lab-user/.conda/envs/default/lib/python3.9/site-packages/sklearn/base.py:450: UserWarning: X does not have valid feature names, but LinearRegression was fitted with feature names\n",
      "  warnings.warn(\n",
      "/home/studio-lab-user/.conda/envs/default/lib/python3.9/site-packages/sklearn/base.py:450: UserWarning: X does not have valid feature names, but LinearRegression was fitted with feature names\n",
      "  warnings.warn(\n"
     ]
    }
   ],
   "source": [
    "# make predictions\n",
    "for data in [fake1, fake2, fake3]:\n",
    "    print('$',int(unpickled_model.predict(data)))"
   ]
  },
  {
   "cell_type": "markdown",
   "id": "thorough-services",
   "metadata": {},
   "source": [
    "## Turn that into a function"
   ]
  },
  {
   "cell_type": "code",
   "execution_count": 46,
   "id": "overall-incentive",
   "metadata": {},
   "outputs": [],
   "source": [
    "def ames_lr_function(YearBuilt,Bathrooms,BedroomAbvGr,TotalSF,SingleFam,LargeNeighborhood,CentralAir_New,Fireplaces,GarageCars,GarageAttached):\n",
    "    checksum=0\n",
    "    for var in [YearBuilt,Bathrooms,BedroomAbvGr,TotalSF,SingleFam,LargeNeighborhood,CentralAir_New,Fireplaces,GarageCars,GarageAttached]:\n",
    "        if isinstance(var,int)==False:\n",
    "            checksum+=1\n",
    "    if (YearBuilt<1900)|(YearBuilt>2020):\n",
    "        checksum+=1\n",
    "    if (Bathrooms<1) | (Bathrooms>5):\n",
    "        checksum+=1\n",
    "    if (BedroomAbvGr<1) | (BedroomAbvGr>5):\n",
    "        checksum+=1\n",
    "    if (TotalSF<100)|(TotalSF>5000):\n",
    "        checksum+=1\n",
    "    if (SingleFam!=0) & (SingleFam!=1):\n",
    "        checksum+=1\n",
    "    if (LargeNeighborhood!=0) & (LargeNeighborhood!=1):\n",
    "        checksum+=1\n",
    "    if (CentralAir_New!=0) & (CentralAir_New!=1): #this has to be binary\n",
    "        checksum+=1\n",
    "    if (Fireplaces<0) | (Fireplaces>3): #can't be less than 0 and cut it off at 3 based on the data\n",
    "        checksum+=1\n",
    "    if (GarageCars<0) | (GarageCars>4): #can't be less than 0 and cut it off at 4 based on the data\n",
    "        checksum+=1\n",
    "    if (GarageAttached!=0) & (GarageAttached!=1): #this has to be binary\n",
    "        checksum+=1\n",
    "    if checksum>0:\n",
    "        return \"Please provide adequate inputs\"\n",
    "    else:\n",
    "        y = [-1043815.6191 + 534.741*YearBuilt + 9021.8317*Bathrooms + -5410.0789*BedroomAbvGr + 39.4863*TotalSF+ 21538.1133*SingleFam+ -5348.3975*LargeNeighborhood + 7329.9815*CentralAir_New + 11622.5781*Fireplaces + 19168.3355*GarageCars + -789.182*GarageAttached]\n",
    "#         y = unpickled_model.predict([[YearBuilt,Bathrooms,BedroomAbvGr,TotalSF,SingleFam,LargeNeighborhood]])\n",
    "        formatted_y = \"${:,.2f}\".format(y[0])\n",
    "        return formatted_y "
   ]
  },
  {
   "cell_type": "code",
   "execution_count": 48,
   "id": "annoying-white",
   "metadata": {},
   "outputs": [
    {
     "data": {
      "text/plain": [
       "'$236,228.83'"
      ]
     },
     "execution_count": 48,
     "metadata": {},
     "output_type": "execute_result"
    }
   ],
   "source": [
    "# test the function\n",
    "YearBuilt=2015\n",
    "Bathrooms=3\n",
    "BedroomAbvGr=3\n",
    "TotalSF=2000\n",
    "SingleFam=0\n",
    "LargeNeighborhood=1\n",
    "CentralAir_New=1\n",
    "Fireplaces=3\n",
    "GarageCars=4\n",
    "GarageAttached=1\n",
    "ames_lr_function(YearBuilt,Bathrooms,BedroomAbvGr,TotalSF,SingleFam,LargeNeighborhood,CentralAir_New,Fireplaces,GarageCars,GarageAttached)"
   ]
  },
  {
   "cell_type": "code",
   "execution_count": null,
   "id": "minimal-specification",
   "metadata": {},
   "outputs": [],
   "source": []
  }
 ],
 "metadata": {
  "kernelspec": {
   "display_name": "default:Python",
   "language": "python",
   "name": "conda-env-default-py"
  },
  "language_info": {
   "codemirror_mode": {
    "name": "ipython",
    "version": 3
   },
   "file_extension": ".py",
   "mimetype": "text/x-python",
   "name": "python",
   "nbconvert_exporter": "python",
   "pygments_lexer": "ipython3",
   "version": "3.9.13"
  }
 },
 "nbformat": 4,
 "nbformat_minor": 5
}
